{
 "cells": [
  {
   "cell_type": "code",
   "execution_count": 5,
   "id": "e51e0c09-9471-47a7-bcd7-43c1529217a6",
   "metadata": {},
   "outputs": [],
   "source": [
    "import tensorflow as tf #딥러닝 라이브러리\n",
    "import numpy as np # 다차원 배열 라이브러리\n",
    "import matplotlib.pyplot as plt # 시각화 라이브러리\n",
    "import sklearn #머신러닝 라이브러리\n",
    "import seaborn as sns #시각화 고급 라이브러리\n",
    "import pandas as pd # 데이터 분석 라이브러리\n"
   ]
  },
  {
   "cell_type": "code",
   "execution_count": 6,
   "id": "d9ae7b87-aac1-4cf2-8aae-4b9b88358d91",
   "metadata": {},
   "outputs": [],
   "source": [
    "data = np.array([1,2,3,4,5,6,7,8,9,10,11,12,13,14,15,16,17,18,19,20])"
   ]
  },
  {
   "cell_type": "code",
   "execution_count": 12,
   "id": "8759e3a1-ada5-4b90-b05c-87c5132cac82",
   "metadata": {},
   "outputs": [],
   "source": [
    "def createData_rnn(data_arr,time_step=4):# 20개(총갯수) 16번(반복회수) 반복\n",
    "    x_data = [];y_data = []\n",
    "    for i in range(len(data_arr)-time_step):\n",
    "        x_data.append(data_arr[i:time_step+i])\n",
    "        y_data.append(data_arr[time_step+i])\n",
    "    return np.array(x_data),np.array(y_data).reshape(-1,1)\n",
    "    "
   ]
  },
  {
   "cell_type": "code",
   "execution_count": 14,
   "id": "afe5e063-6c1b-4e41-abc5-b17e01f0533d",
   "metadata": {},
   "outputs": [
    {
     "name": "stdout",
     "output_type": "stream",
     "text": [
      "(16, 4)\n",
      "(16, 1)\n",
      "[[1 2 3 4]\n",
      " [2 3 4 5]]\n",
      "[[5]\n",
      " [6]]\n",
      "[[15 16 17 18]\n",
      " [16 17 18 19]]\n",
      "[[19]\n",
      " [20]]\n"
     ]
    }
   ],
   "source": [
    "x_data,y_data = createData_rnn(data)\n",
    "print(x_data.shape)\n",
    "print(y_data.shape)\n",
    "print(x_data[:2])\n",
    "print(y_data[:2])\n",
    "print(x_data[-2:])\n",
    "print(y_data[-2:])"
   ]
  },
  {
   "cell_type": "code",
   "execution_count": 17,
   "id": "9c14b834-9883-4f4e-b971-d572da7964b4",
   "metadata": {},
   "outputs": [
    {
     "name": "stdout",
     "output_type": "stream",
     "text": [
      "tf.Tensor(\n",
      "[[1. 2. 3. 4.]\n",
      " [2. 3. 4. 5.]], shape=(2, 4), dtype=float32)\n"
     ]
    }
   ],
   "source": [
    "TIME_STEP = 4\n",
    "from tensorflow.keras import Sequential, Input\n",
    "from tensorflow.keras.layers import SimpleRNN\n",
    "model = Sequential()\n",
    "model.add(Input((TIME_STEP,)))\n",
    "print(model(x_data)[:2])\n"
   ]
  },
  {
   "cell_type": "code",
   "execution_count": null,
   "id": "330715d6-e577-4e80-949b-545a436e0888",
   "metadata": {},
   "outputs": [],
   "source": []
  }
 ],
 "metadata": {
  "kernelspec": {
   "display_name": "Python 3 (ipykernel)",
   "language": "python",
   "name": "python3"
  },
  "language_info": {
   "codemirror_mode": {
    "name": "ipython",
    "version": 3
   },
   "file_extension": ".py",
   "mimetype": "text/x-python",
   "name": "python",
   "nbconvert_exporter": "python",
   "pygments_lexer": "ipython3",
   "version": "3.9.7"
  }
 },
 "nbformat": 4,
 "nbformat_minor": 5
}
