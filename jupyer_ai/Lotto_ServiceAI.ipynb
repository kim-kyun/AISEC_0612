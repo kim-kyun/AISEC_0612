{
 "cells": [
  {
   "cell_type": "code",
   "execution_count": 119,
   "id": "bb4f3135-4071-4d8e-b05a-cbbe8ce6e572",
   "metadata": {},
   "outputs": [],
   "source": [
    "#1. 모델 불러오는 함수\n",
    "#2. 데이터 예측 출력 함수\n",
    "#3. 데이터 전처리 함수\n",
    "#4. 모델 업그레이드 함수\n",
    "#5. 모델 정확률 산정함수\n",
    "#6. 오차율은 테스트 파일로 테스트후 다시 훈련하여 저장후 출력\n",
    "import tensorflow as tf\n",
    "import numpy as np\n",
    "import matplotlib.pyplot as plt\n",
    "import pandas as pd\n",
    "from datetime import datetime"
   ]
  },
  {
   "cell_type": "code",
   "execution_count": 120,
   "id": "fd377bf6-b91e-4b03-bc75-db38f80bee28",
   "metadata": {},
   "outputs": [],
   "source": [
    "#configure\n",
    "OS_DELIM=\"\\\\\"\n",
    "ROOT_PATH=r\"D:{}lotto_AI\".format(OS_DELIM)\n",
    "DATA_LABELS = [\"year_date\",\"num_1\",\"num_2\",\\\n",
    "                   \"num_3\",\"num_4\",\"num_5\",\"num_6\",\"num_7\"]\n",
    "def callModel(mname):#모델 불러오는 함수\n",
    "    print()\n",
    "    tmodel = tf.keras.models.load_model(\\\n",
    "        f\"{ROOT_PATH}{OS_DELIM}lotto_model{OS_DELIM}{mname}.keras\")\n",
    "    return tmodel\n",
    "def preproc(data_set,time_step):#데이터 전처리 함수\n",
    "    df = pd.read_csv(f\"{ROOT_PATH}{OS_DELIM}last_data{OS_DELIM}{data_set}\",\\\n",
    "                    names=DATA_LABELS)\n",
    "    df[\"year_date\"]=pd.to_datetime(df[\"year_date\"])\n",
    "    print(df[\"year_date\"][0])\n",
    "    df[\"millis\"]=df[\"year_date\"].astype(\"int64\")//10**9\n",
    "    print(df[\"millis\"][0])\n",
    "    raw_data = np.array(\\\n",
    "        df.loc[:,[\"num_1\",\"num_2\",\"num_3\",\"num_4\",\\\n",
    "                      \"num_5\",\"num_6\",\"num_7\",\"millis\"]])\n",
    "    print(raw_data.shape)\n",
    "    print(\"원본숫자:\",raw_data[0])\n",
    "    raw_data = np.array(\\\n",
    "        [np.concatenate([raw_data[i][:7] /(raw_data[i][7]/(10**8)),\\\n",
    "                                     [raw_data[i][7]]]) \\\n",
    "                                         for i in range(len(raw_data))])\n",
    "    print(\"복원숫자:\",recoverData(raw_data[0][:7],raw_data[0][7]))\n",
    "    raw_data=raw_data[::-1]\n",
    "    x_data = [];\n",
    "    for i in range(len(raw_data)-time_step):\n",
    "        x_data.append(raw_data[i:time_step+i])\n",
    "    return np.array(x_data)\n",
    "    \n",
    "def recoverData(data_arr,millis_sec):#(unit numpy_arr,milli second)\n",
    "    millis_sec /= (10**8)\n",
    "    return data_arr*millis_sec \n",
    "def printpred(tmodel,x_data,millis_sec):#예측 출력함수\n",
    "    print(\"훈련데이터의 마지막 일자:\",datetime.fromtimestamp(x_data[-1][-1][7]))\n",
    "    print(\"예측일 번호:\",datetime.fromtimestamp(millis_sec))\n",
    "    x_data = np.array([x_data[-1]])\n",
    "    y_pred = tmodel.predict(x_data[:,:,:7])\n",
    "    print(y_pred)\n",
    "    return np.round(recoverData(y_pred,millis_sec))\n",
    "    \n",
    "def recoverData(data_arr,millis_sec):#(unit numpy_arr,milli second)\n",
    "    millis_sec /= (10**8)\n",
    "    return data_arr*millis_sec    \n",
    "def upgradeModel():#모델업그레이드\n",
    "    pass\n",
    "def calcRate():#정확률 산정\n",
    "    pass\n",
    "def current_errRate():#오차율 출력 함수\n",
    "    pass\n",
    "def pred_lottonumber(model_name,model_file,datestr,time_step):\n",
    "    tmodel = callModel(model_name)\n",
    "    x_pred = preproc(model_file,time_step)\n",
    "    print(x_pred.shape)\n",
    "    #u time으로 +9시\n",
    "    res = printpred(tmodel,x_pred,datetime.strptime(datestr,\"%Y-%m-%d %H:%M:%S\").timestamp())\n",
    "    return res"
   ]
  },
  {
   "cell_type": "code",
   "execution_count": 121,
   "id": "f1452626-7264-4902-b634-d71a725d974f",
   "metadata": {},
   "outputs": [
    {
     "name": "stdout",
     "output_type": "stream",
     "text": [
      "\n",
      "2025-08-09 00:00:00\n",
      "1754697600\n",
      "(584, 8)\n",
      "원본숫자: [        14         16         23         25         31         37\n",
      "         42 1754697600]\n",
      "복원숫자: [14. 16. 23. 25. 31. 37. 42.]\n",
      "(536, 48, 8)\n",
      "훈련데이터의 마지막 일자: 2025-08-02 09:00:00\n",
      "예측일 번호: 2025-08-16 09:00:00\n",
      "1/1 [==============================] - 1s 1s/step\n",
      "[[0.41097334 0.7739055  1.1618459  1.5362662  1.8912175  2.273012\n",
      "  1.27295   ]]\n",
      "[[ 7. 14. 20. 27. 33. 40. 22.]]\n"
     ]
    }
   ],
   "source": [
    "if __name__==\"__main__\":\n",
    "    r =pred_lottonumber(\"LSTM_model_48\",\"current_lotto_08.09.csv\",\"2025-08-16 09:00:00\",48)\n",
    "    print(r)\n"
   ]
  },
  {
   "cell_type": "code",
   "execution_count": null,
   "id": "8980baad-f0ad-4690-acee-a81e17df7408",
   "metadata": {},
   "outputs": [],
   "source": []
  }
 ],
 "metadata": {
  "kernelspec": {
   "display_name": "Python 3 (ipykernel)",
   "language": "python",
   "name": "python3"
  },
  "language_info": {
   "codemirror_mode": {
    "name": "ipython",
    "version": 3
   },
   "file_extension": ".py",
   "mimetype": "text/x-python",
   "name": "python",
   "nbconvert_exporter": "python",
   "pygments_lexer": "ipython3",
   "version": "3.9.7"
  }
 },
 "nbformat": 4,
 "nbformat_minor": 5
}
